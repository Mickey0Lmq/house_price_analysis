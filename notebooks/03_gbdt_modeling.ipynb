{
 "cells": [
  {
   "cell_type": "markdown",
   "id": "ecaadd2a",
   "metadata": {},
   "source": [
    "# GBDT模型建立与应用\n",
    "\n",
    "本notebook加载特征工程与t-SNE降维后的数据，进行GBDT建模、调参、特征选择，并保存最佳模型。"
   ]
  },
  {
   "cell_type": "code",
   "execution_count": 5,
   "id": "17de8567",
   "metadata": {},
   "outputs": [
    {
     "name": "stdout",
     "output_type": "stream",
     "text": [
      "训练特征形状: (1460, 287)\n",
      "目标变量形状: (1460,)\n"
     ]
    }
   ],
   "source": [
    "import joblib\n",
    "import numpy as np\n",
    "from sklearn.ensemble import GradientBoostingRegressor\n",
    "from sklearn.model_selection import RandomizedSearchCV\n",
    "from sklearn.metrics import mean_squared_error, mean_absolute_error, r2_score\n",
    "from scipy.stats import uniform, randint\n",
    "\n",
    "# 加载预处理数据\n",
    "processed_data = joblib.load('../data/processed_data.pkl')\n",
    "X_train = processed_data['X_train']\n",
    "y_train = processed_data['y_train']\n",
    "feature_names = processed_data['feature_names']\n",
    "\n",
    "print(f\"训练特征形状: {X_train.shape}\")\n",
    "print(f\"目标变量形状: {y_train.shape}\")"
   ]
  },
  {
   "cell_type": "code",
   "execution_count": 6,
   "id": "e7d6d50f",
   "metadata": {},
   "outputs": [
    {
     "name": "stdout",
     "output_type": "stream",
     "text": [
      "Fitting 5 folds for each of 100 candidates, totalling 500 fits\n",
      "最佳参数组合： {'learning_rate': 0.04499098541918724, 'max_depth': 3, 'n_estimators': 671, 'subsample': 0.7043316699321636}\n"
     ]
    }
   ],
   "source": [
    "# 定义GBDT超参数搜索空间\n",
    "param_dist = {\n",
    "    'n_estimators': randint(100, 1000),\n",
    "    'max_depth': randint(3, 10),\n",
    "    'learning_rate': uniform(0.01, 0.2),\n",
    "    'subsample': uniform(0.6, 0.4)\n",
    "}\n",
    "random_search = RandomizedSearchCV(\n",
    "    estimator=GradientBoostingRegressor(),\n",
    "    param_distributions=param_dist,\n",
    "    n_iter=100,\n",
    "    scoring='neg_mean_squared_error',\n",
    "    cv=5,\n",
    "    verbose=1,\n",
    "    n_jobs=-1,\n",
    "    random_state=42\n",
    ")\n",
    "random_search.fit(X_train, y_train)\n",
    "print(\"最佳参数组合：\", random_search.best_params_)"
   ]
  },
  {
   "cell_type": "code",
   "execution_count": 7,
   "id": "420a963e",
   "metadata": {},
   "outputs": [
    {
     "name": "stdout",
     "output_type": "stream",
     "text": [
      "优化后的GBDT模型的均方误差: 0.00\n",
      "优化后的GBDT模型的平均绝对误差: 0.04\n",
      "优化后的GBDT模型的R-squared: 0.98\n",
      "最优GBDT模型已保存到 ../models/best_gbdt_model.pkl\n"
     ]
    }
   ],
   "source": [
    "# 训练最优GBDT模型并评估\n",
    "best_gbdt_model = random_search.best_estimator_\n",
    "y_train_pred = best_gbdt_model.predict(X_train)\n",
    "gbdt_mse = mean_squared_error(y_train, y_train_pred)\n",
    "gbdt_mae = mean_absolute_error(y_train, y_train_pred)\n",
    "gbdt_r2 = r2_score(y_train, y_train_pred)\n",
    "print(f'优化后的GBDT模型的均方误差: {gbdt_mse:.2f}')\n",
    "print(f'优化后的GBDT模型的平均绝对误差: {gbdt_mae:.2f}')\n",
    "print(f'优化后的GBDT模型的R-squared: {gbdt_r2:.2f}')\n",
    "\n",
    "# 保存模型\n",
    "joblib.dump(best_gbdt_model, '../models/best_gbdt_model.pkl', compress=3)\n",
    "print(\"最优GBDT模型已保存到 ../models/best_gbdt_model.pkl\")"
   ]
  },
  {
   "cell_type": "code",
   "execution_count": 8,
   "id": "6ef6a547",
   "metadata": {},
   "outputs": [
    {
     "name": "stdout",
     "output_type": "stream",
     "text": [
      "RFE特征选择后GBDT模型的均方误差: 0.00\n"
     ]
    }
   ],
   "source": [
    "# 递归特征消除（RFE）+ GBDT\n",
    "from sklearn.feature_selection import RFE\n",
    "rfe = RFE(estimator=GradientBoostingRegressor(**random_search.best_params_), n_features_to_select=30, step=10)\n",
    "rfe.fit(X_train, y_train)\n",
    "X_train_rfe = rfe.transform(X_train)\n",
    "rfe_gbdt = GradientBoostingRegressor(**random_search.best_params_)\n",
    "rfe_gbdt.fit(X_train_rfe, y_train)\n",
    "y_train_pred_rfe = rfe_gbdt.predict(X_train_rfe)\n",
    "rfe_mse = mean_squared_error(y_train, y_train_pred_rfe)\n",
    "print(f'RFE特征选择后GBDT模型的均方误差: {rfe_mse:.2f}')"
   ]
  },
  {
   "cell_type": "code",
   "execution_count": 9,
   "id": "2452badb",
   "metadata": {},
   "outputs": [
    {
     "name": "stdout",
     "output_type": "stream",
     "text": [
      "XGBoost模型的均方误差: 0.00\n"
     ]
    }
   ],
   "source": [
    "# XGBoost模型\n",
    "from xgboost import XGBRegressor\n",
    "xgb_model = XGBRegressor(n_estimators=300, learning_rate=0.05, max_depth=5, subsample=0.8, random_state=42)\n",
    "xgb_model.fit(X_train, y_train)\n",
    "y_train_pred_xgb = xgb_model.predict(X_train)\n",
    "xgb_mse = mean_squared_error(y_train, y_train_pred_xgb)\n",
    "print(f'XGBoost模型的均方误差: {xgb_mse:.2f}')"
   ]
  },
  {
   "cell_type": "code",
   "execution_count": 10,
   "id": "915593cf",
   "metadata": {},
   "outputs": [
    {
     "name": "stdout",
     "output_type": "stream",
     "text": [
      "Stacking集成模型的均方误差: 0.00\n"
     ]
    }
   ],
   "source": [
    "# Stacking集成模型\n",
    "from sklearn.linear_model import LinearRegression\n",
    "from sklearn.ensemble import StackingRegressor\n",
    "stacking_model = StackingRegressor(\n",
    "    estimators=[\n",
    "        ('gbdt', GradientBoostingRegressor(**random_search.best_params_)),\n",
    "        ('xgb', XGBRegressor(n_estimators=300, learning_rate=0.05, max_depth=5, subsample=0.8, random_state=42))\n",
    "    ],\n",
    "    final_estimator=LinearRegression()\n",
    ")\n",
    "stacking_model.fit(X_train, y_train)\n",
    "y_train_pred_stack = stacking_model.predict(X_train)\n",
    "stack_mse = mean_squared_error(y_train, y_train_pred_stack)\n",
    "print(f'Stacking集成模型的均方误差: {stack_mse:.2f}')"
   ]
  },
  {
   "cell_type": "code",
   "execution_count": 11,
   "id": "a3b3cb01",
   "metadata": {},
   "outputs": [
    {
     "name": "stdout",
     "output_type": "stream",
     "text": [
      "建模相关对象已保存到 ../models/model_objects.pkl\n"
     ]
    }
   ],
   "source": [
    "# 保存建模相关对象，便于后续可视化分析\n",
    "import joblib\n",
    "joblib.dump({\n",
    "    'random_search': random_search,\n",
    "    'rfe_gbdt': rfe_gbdt if 'rfe_gbdt' in locals() else None,\n",
    "    'xgb_model': xgb_model if 'xgb_model' in locals() else None,\n",
    "    'stacking_model': stacking_model if 'stacking_model' in locals() else None,\n",
    "    'gbdt_mse': gbdt_mse if 'gbdt_mse' in locals() else None,\n",
    "    'rfe_mse': rfe_mse if 'rfe_mse' in locals() else None,\n",
    "    'xgb_mse': xgb_mse if 'xgb_mse' in locals() else None,\n",
    "    'stack_mse': stack_mse if 'stack_mse' in locals() else None\n",
    "}, '../models/model_objects.pkl', compress=3)\n",
    "print(\"建模相关对象已保存到 ../models/model_objects.pkl\")"
   ]
  }
 ],
 "metadata": {
  "kernelspec": {
   "display_name": "base",
   "language": "python",
   "name": "python3"
  },
  "language_info": {
   "codemirror_mode": {
    "name": "ipython",
    "version": 3
   },
   "file_extension": ".py",
   "mimetype": "text/x-python",
   "name": "python",
   "nbconvert_exporter": "python",
   "pygments_lexer": "ipython3",
   "version": "3.12.7"
  }
 },
 "nbformat": 4,
 "nbformat_minor": 5
}
